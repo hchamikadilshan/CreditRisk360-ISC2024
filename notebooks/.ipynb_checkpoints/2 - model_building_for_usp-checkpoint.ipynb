{
 "cells": [
  {
   "cell_type": "code",
   "execution_count": 47,
   "id": "020f1619",
   "metadata": {},
   "outputs": [],
   "source": [
    "import pandas as pd\n",
    "import seaborn as sns\n",
    "import matplotlib.pyplot as plt\n",
    "from scipy.stats import chi2_contingency\n",
    "from xgboost import XGBClassifier\n",
    "from sklearn.ensemble import RandomForestClassifier\n",
    "from sklearn.impute import KNNImputer\n",
    "from sklearn.model_selection import train_test_split\n",
    "from sklearn.metrics import accuracy_score, precision_score, recall_score, f1_score, classification_report, confusion_matrix\n",
    "import numpy as np"
   ]
  },
  {
   "cell_type": "code",
   "execution_count": 2,
   "id": "93c363f3",
   "metadata": {},
   "outputs": [],
   "source": [
    "train_data = pd.read_csv(\"../data/train_data_before_usp.csv\")\n",
    "test_data = pd.read_csv(\"../data/test_data_before_usp.csv\")"
   ]
  },
  {
   "cell_type": "code",
   "execution_count": null,
   "id": "a5820176",
   "metadata": {},
   "outputs": [],
   "source": [
    "train_data.info()\n",
    "test_data.info()"
   ]
  },
  {
   "cell_type": "code",
   "execution_count": 3,
   "id": "6d1eb2ba",
   "metadata": {},
   "outputs": [],
   "source": [
    "train_data_with_na = train_data[train_data['unusual_submission_pattern'].isna()].copy()\n",
    "train_data_without_na = train_data[train_data['unusual_submission_pattern'].notna()].copy()\n",
    "\n",
    "test_data_with_na = test_data[test_data['unusual_submission_pattern'].isna()].copy()\n",
    "test_data_without_na = test_data[test_data['unusual_submission_pattern'].notna()].copy()"
   ]
  },
  {
   "cell_type": "markdown",
   "id": "15a6c2b4",
   "metadata": {},
   "source": [
    "## 1. Using `XGBClassifier` to train the model"
   ]
  },
  {
   "cell_type": "code",
   "execution_count": 4,
   "id": "c9e5da04",
   "metadata": {},
   "outputs": [],
   "source": [
    "features = ['multiple_applications_short_time_period', \n",
    "            'applications_submitted_during_odd_hours', \n",
    "            'payment_methods_high_risk']\n",
    "target = 'unusual_submission_pattern'"
   ]
  },
  {
   "cell_type": "code",
   "execution_count": 11,
   "id": "b85b927f",
   "metadata": {},
   "outputs": [],
   "source": [
    "X_train = train_data_without_na[features]\n",
    "y_train = train_data_without_na[target]\n",
    "y_train = y_train.map({True: 1, False: 0})\n",
    "\n",
    "X_test = test_data_without_na[features]\n",
    "y_test = test_data_without_na[target]\n",
    "y_test = y_test.map({True: 1, False: 0})"
   ]
  },
  {
   "cell_type": "code",
   "execution_count": 12,
   "id": "4d15edd6",
   "metadata": {},
   "outputs": [
    {
     "data": {
      "text/html": [
       "<style>#sk-container-id-2 {color: black;}#sk-container-id-2 pre{padding: 0;}#sk-container-id-2 div.sk-toggleable {background-color: white;}#sk-container-id-2 label.sk-toggleable__label {cursor: pointer;display: block;width: 100%;margin-bottom: 0;padding: 0.3em;box-sizing: border-box;text-align: center;}#sk-container-id-2 label.sk-toggleable__label-arrow:before {content: \"▸\";float: left;margin-right: 0.25em;color: #696969;}#sk-container-id-2 label.sk-toggleable__label-arrow:hover:before {color: black;}#sk-container-id-2 div.sk-estimator:hover label.sk-toggleable__label-arrow:before {color: black;}#sk-container-id-2 div.sk-toggleable__content {max-height: 0;max-width: 0;overflow: hidden;text-align: left;background-color: #f0f8ff;}#sk-container-id-2 div.sk-toggleable__content pre {margin: 0.2em;color: black;border-radius: 0.25em;background-color: #f0f8ff;}#sk-container-id-2 input.sk-toggleable__control:checked~div.sk-toggleable__content {max-height: 200px;max-width: 100%;overflow: auto;}#sk-container-id-2 input.sk-toggleable__control:checked~label.sk-toggleable__label-arrow:before {content: \"▾\";}#sk-container-id-2 div.sk-estimator input.sk-toggleable__control:checked~label.sk-toggleable__label {background-color: #d4ebff;}#sk-container-id-2 div.sk-label input.sk-toggleable__control:checked~label.sk-toggleable__label {background-color: #d4ebff;}#sk-container-id-2 input.sk-hidden--visually {border: 0;clip: rect(1px 1px 1px 1px);clip: rect(1px, 1px, 1px, 1px);height: 1px;margin: -1px;overflow: hidden;padding: 0;position: absolute;width: 1px;}#sk-container-id-2 div.sk-estimator {font-family: monospace;background-color: #f0f8ff;border: 1px dotted black;border-radius: 0.25em;box-sizing: border-box;margin-bottom: 0.5em;}#sk-container-id-2 div.sk-estimator:hover {background-color: #d4ebff;}#sk-container-id-2 div.sk-parallel-item::after {content: \"\";width: 100%;border-bottom: 1px solid gray;flex-grow: 1;}#sk-container-id-2 div.sk-label:hover label.sk-toggleable__label {background-color: #d4ebff;}#sk-container-id-2 div.sk-serial::before {content: \"\";position: absolute;border-left: 1px solid gray;box-sizing: border-box;top: 0;bottom: 0;left: 50%;z-index: 0;}#sk-container-id-2 div.sk-serial {display: flex;flex-direction: column;align-items: center;background-color: white;padding-right: 0.2em;padding-left: 0.2em;position: relative;}#sk-container-id-2 div.sk-item {position: relative;z-index: 1;}#sk-container-id-2 div.sk-parallel {display: flex;align-items: stretch;justify-content: center;background-color: white;position: relative;}#sk-container-id-2 div.sk-item::before, #sk-container-id-2 div.sk-parallel-item::before {content: \"\";position: absolute;border-left: 1px solid gray;box-sizing: border-box;top: 0;bottom: 0;left: 50%;z-index: -1;}#sk-container-id-2 div.sk-parallel-item {display: flex;flex-direction: column;z-index: 1;position: relative;background-color: white;}#sk-container-id-2 div.sk-parallel-item:first-child::after {align-self: flex-end;width: 50%;}#sk-container-id-2 div.sk-parallel-item:last-child::after {align-self: flex-start;width: 50%;}#sk-container-id-2 div.sk-parallel-item:only-child::after {width: 0;}#sk-container-id-2 div.sk-dashed-wrapped {border: 1px dashed gray;margin: 0 0.4em 0.5em 0.4em;box-sizing: border-box;padding-bottom: 0.4em;background-color: white;}#sk-container-id-2 div.sk-label label {font-family: monospace;font-weight: bold;display: inline-block;line-height: 1.2em;}#sk-container-id-2 div.sk-label-container {text-align: center;}#sk-container-id-2 div.sk-container {/* jupyter's `normalize.less` sets `[hidden] { display: none; }` but bootstrap.min.css set `[hidden] { display: none !important; }` so we also need the `!important` here to be able to override the default hidden behavior on the sphinx rendered scikit-learn.org. See: https://github.com/scikit-learn/scikit-learn/issues/21755 */display: inline-block !important;position: relative;}#sk-container-id-2 div.sk-text-repr-fallback {display: none;}</style><div id=\"sk-container-id-2\" class=\"sk-top-container\"><div class=\"sk-text-repr-fallback\"><pre>XGBClassifier(base_score=None, booster=None, callbacks=None,\n",
       "              colsample_bylevel=None, colsample_bynode=None,\n",
       "              colsample_bytree=None, device=None, early_stopping_rounds=None,\n",
       "              enable_categorical=False, eval_metric=None, feature_types=None,\n",
       "              gamma=None, grow_policy=None, importance_type=None,\n",
       "              interaction_constraints=None, learning_rate=None, max_bin=None,\n",
       "              max_cat_threshold=None, max_cat_to_onehot=None,\n",
       "              max_delta_step=None, max_depth=None, max_leaves=None,\n",
       "              min_child_weight=None, missing=nan, monotone_constraints=None,\n",
       "              multi_strategy=None, n_estimators=None, n_jobs=None,\n",
       "              num_parallel_tree=None, random_state=1, ...)</pre><b>In a Jupyter environment, please rerun this cell to show the HTML representation or trust the notebook. <br />On GitHub, the HTML representation is unable to render, please try loading this page with nbviewer.org.</b></div><div class=\"sk-container\" hidden><div class=\"sk-item\"><div class=\"sk-estimator sk-toggleable\"><input class=\"sk-toggleable__control sk-hidden--visually\" id=\"sk-estimator-id-2\" type=\"checkbox\" checked><label for=\"sk-estimator-id-2\" class=\"sk-toggleable__label sk-toggleable__label-arrow\">XGBClassifier</label><div class=\"sk-toggleable__content\"><pre>XGBClassifier(base_score=None, booster=None, callbacks=None,\n",
       "              colsample_bylevel=None, colsample_bynode=None,\n",
       "              colsample_bytree=None, device=None, early_stopping_rounds=None,\n",
       "              enable_categorical=False, eval_metric=None, feature_types=None,\n",
       "              gamma=None, grow_policy=None, importance_type=None,\n",
       "              interaction_constraints=None, learning_rate=None, max_bin=None,\n",
       "              max_cat_threshold=None, max_cat_to_onehot=None,\n",
       "              max_delta_step=None, max_depth=None, max_leaves=None,\n",
       "              min_child_weight=None, missing=nan, monotone_constraints=None,\n",
       "              multi_strategy=None, n_estimators=None, n_jobs=None,\n",
       "              num_parallel_tree=None, random_state=1, ...)</pre></div></div></div></div></div>"
      ],
      "text/plain": [
       "XGBClassifier(base_score=None, booster=None, callbacks=None,\n",
       "              colsample_bylevel=None, colsample_bynode=None,\n",
       "              colsample_bytree=None, device=None, early_stopping_rounds=None,\n",
       "              enable_categorical=False, eval_metric=None, feature_types=None,\n",
       "              gamma=None, grow_policy=None, importance_type=None,\n",
       "              interaction_constraints=None, learning_rate=None, max_bin=None,\n",
       "              max_cat_threshold=None, max_cat_to_onehot=None,\n",
       "              max_delta_step=None, max_depth=None, max_leaves=None,\n",
       "              min_child_weight=None, missing=nan, monotone_constraints=None,\n",
       "              multi_strategy=None, n_estimators=None, n_jobs=None,\n",
       "              num_parallel_tree=None, random_state=1, ...)"
      ]
     },
     "execution_count": 12,
     "metadata": {},
     "output_type": "execute_result"
    }
   ],
   "source": [
    "xgb_model1 = XGBClassifier(random_state=1)\n",
    "xgb_model1.fit(X_train, y_train)"
   ]
  },
  {
   "cell_type": "code",
   "execution_count": 15,
   "id": "17161de1",
   "metadata": {},
   "outputs": [],
   "source": [
    "predicted_y_train = xgb_model1.predict(X_train)\n",
    "predicted_y_test = xgb_model1.predict(X_test)"
   ]
  },
  {
   "cell_type": "markdown",
   "id": "d891bbb9",
   "metadata": {},
   "source": [
    "### 1.1 `model1` training evalution "
   ]
  },
  {
   "cell_type": "code",
   "execution_count": 16,
   "id": "49ac9880",
   "metadata": {},
   "outputs": [
    {
     "name": "stdout",
     "output_type": "stream",
     "text": [
      "Accuracy: 0.826338329764454\n",
      "Precision: 0.6501831501831502\n",
      "Recall: 0.3641025641025641\n",
      "F1 Score: 0.46679815910585143\n",
      "Confusion Matrix:\n",
      " [[3504  191]\n",
      " [ 620  355]]\n",
      "Classification Report:\n",
      "               precision    recall  f1-score   support\n",
      "\n",
      "           0       0.85      0.95      0.90      3695\n",
      "           1       0.65      0.36      0.47       975\n",
      "\n",
      "    accuracy                           0.83      4670\n",
      "   macro avg       0.75      0.66      0.68      4670\n",
      "weighted avg       0.81      0.83      0.81      4670\n",
      "\n"
     ]
    }
   ],
   "source": [
    "print(\"Accuracy:\", accuracy_score(y_train, predicted_y_train))\n",
    "print(\"Precision:\", precision_score(y_train, predicted_y_train))\n",
    "print(\"Recall:\", recall_score(y_train, predicted_y_train))\n",
    "print(\"F1 Score:\", f1_score(y_train, predicted_y_train))\n",
    "print(\"Confusion Matrix:\\n\", confusion_matrix(y_train, predicted_y_train))\n",
    "print(\"Classification Report:\\n\", classification_report(y_train, predicted_y_train))"
   ]
  },
  {
   "cell_type": "markdown",
   "id": "4312edb3",
   "metadata": {},
   "source": [
    "### 1.2 `model1` testing evalution "
   ]
  },
  {
   "cell_type": "code",
   "execution_count": 17,
   "id": "98c62383",
   "metadata": {},
   "outputs": [
    {
     "name": "stdout",
     "output_type": "stream",
     "text": [
      "Accuracy: 0.8361204013377926\n",
      "Precision: 0.6821705426356589\n",
      "Recall: 0.36213991769547327\n",
      "F1 Score: 0.4731182795698925\n",
      "Confusion Matrix:\n",
      " [[912  41]\n",
      " [155  88]]\n",
      "Classification Report:\n",
      "               precision    recall  f1-score   support\n",
      "\n",
      "           0       0.85      0.96      0.90       953\n",
      "           1       0.68      0.36      0.47       243\n",
      "\n",
      "    accuracy                           0.84      1196\n",
      "   macro avg       0.77      0.66      0.69      1196\n",
      "weighted avg       0.82      0.84      0.82      1196\n",
      "\n"
     ]
    }
   ],
   "source": [
    "print(\"Accuracy:\", accuracy_score(y_test, predicted_y_test))\n",
    "print(\"Precision:\", precision_score(y_test, predicted_y_test))\n",
    "print(\"Recall:\", recall_score(y_test, predicted_y_test))\n",
    "print(\"F1 Score:\", f1_score(y_test, predicted_y_test))\n",
    "print(\"Confusion Matrix:\\n\", confusion_matrix(y_test, predicted_y_test))\n",
    "print(\"Classification Report:\\n\", classification_report(y_test, predicted_y_test))"
   ]
  },
  {
   "cell_type": "code",
   "execution_count": 25,
   "id": "9b45c06c",
   "metadata": {},
   "outputs": [
    {
     "data": {
      "text/html": [
       "<style>#sk-container-id-3 {color: black;}#sk-container-id-3 pre{padding: 0;}#sk-container-id-3 div.sk-toggleable {background-color: white;}#sk-container-id-3 label.sk-toggleable__label {cursor: pointer;display: block;width: 100%;margin-bottom: 0;padding: 0.3em;box-sizing: border-box;text-align: center;}#sk-container-id-3 label.sk-toggleable__label-arrow:before {content: \"▸\";float: left;margin-right: 0.25em;color: #696969;}#sk-container-id-3 label.sk-toggleable__label-arrow:hover:before {color: black;}#sk-container-id-3 div.sk-estimator:hover label.sk-toggleable__label-arrow:before {color: black;}#sk-container-id-3 div.sk-toggleable__content {max-height: 0;max-width: 0;overflow: hidden;text-align: left;background-color: #f0f8ff;}#sk-container-id-3 div.sk-toggleable__content pre {margin: 0.2em;color: black;border-radius: 0.25em;background-color: #f0f8ff;}#sk-container-id-3 input.sk-toggleable__control:checked~div.sk-toggleable__content {max-height: 200px;max-width: 100%;overflow: auto;}#sk-container-id-3 input.sk-toggleable__control:checked~label.sk-toggleable__label-arrow:before {content: \"▾\";}#sk-container-id-3 div.sk-estimator input.sk-toggleable__control:checked~label.sk-toggleable__label {background-color: #d4ebff;}#sk-container-id-3 div.sk-label input.sk-toggleable__control:checked~label.sk-toggleable__label {background-color: #d4ebff;}#sk-container-id-3 input.sk-hidden--visually {border: 0;clip: rect(1px 1px 1px 1px);clip: rect(1px, 1px, 1px, 1px);height: 1px;margin: -1px;overflow: hidden;padding: 0;position: absolute;width: 1px;}#sk-container-id-3 div.sk-estimator {font-family: monospace;background-color: #f0f8ff;border: 1px dotted black;border-radius: 0.25em;box-sizing: border-box;margin-bottom: 0.5em;}#sk-container-id-3 div.sk-estimator:hover {background-color: #d4ebff;}#sk-container-id-3 div.sk-parallel-item::after {content: \"\";width: 100%;border-bottom: 1px solid gray;flex-grow: 1;}#sk-container-id-3 div.sk-label:hover label.sk-toggleable__label {background-color: #d4ebff;}#sk-container-id-3 div.sk-serial::before {content: \"\";position: absolute;border-left: 1px solid gray;box-sizing: border-box;top: 0;bottom: 0;left: 50%;z-index: 0;}#sk-container-id-3 div.sk-serial {display: flex;flex-direction: column;align-items: center;background-color: white;padding-right: 0.2em;padding-left: 0.2em;position: relative;}#sk-container-id-3 div.sk-item {position: relative;z-index: 1;}#sk-container-id-3 div.sk-parallel {display: flex;align-items: stretch;justify-content: center;background-color: white;position: relative;}#sk-container-id-3 div.sk-item::before, #sk-container-id-3 div.sk-parallel-item::before {content: \"\";position: absolute;border-left: 1px solid gray;box-sizing: border-box;top: 0;bottom: 0;left: 50%;z-index: -1;}#sk-container-id-3 div.sk-parallel-item {display: flex;flex-direction: column;z-index: 1;position: relative;background-color: white;}#sk-container-id-3 div.sk-parallel-item:first-child::after {align-self: flex-end;width: 50%;}#sk-container-id-3 div.sk-parallel-item:last-child::after {align-self: flex-start;width: 50%;}#sk-container-id-3 div.sk-parallel-item:only-child::after {width: 0;}#sk-container-id-3 div.sk-dashed-wrapped {border: 1px dashed gray;margin: 0 0.4em 0.5em 0.4em;box-sizing: border-box;padding-bottom: 0.4em;background-color: white;}#sk-container-id-3 div.sk-label label {font-family: monospace;font-weight: bold;display: inline-block;line-height: 1.2em;}#sk-container-id-3 div.sk-label-container {text-align: center;}#sk-container-id-3 div.sk-container {/* jupyter's `normalize.less` sets `[hidden] { display: none; }` but bootstrap.min.css set `[hidden] { display: none !important; }` so we also need the `!important` here to be able to override the default hidden behavior on the sphinx rendered scikit-learn.org. See: https://github.com/scikit-learn/scikit-learn/issues/21755 */display: inline-block !important;position: relative;}#sk-container-id-3 div.sk-text-repr-fallback {display: none;}</style><div id=\"sk-container-id-3\" class=\"sk-top-container\"><div class=\"sk-text-repr-fallback\"><pre>XGBClassifier(base_score=None, booster=None, callbacks=None,\n",
       "              colsample_bylevel=None, colsample_bynode=None,\n",
       "              colsample_bytree=None, device=None, early_stopping_rounds=None,\n",
       "              enable_categorical=False, eval_metric=None, feature_types=None,\n",
       "              gamma=None, grow_policy=None, importance_type=None,\n",
       "              interaction_constraints=None, learning_rate=None, max_bin=None,\n",
       "              max_cat_threshold=None, max_cat_to_onehot=None,\n",
       "              max_delta_step=None, max_depth=None, max_leaves=None,\n",
       "              min_child_weight=None, missing=nan, monotone_constraints=None,\n",
       "              multi_strategy=None, n_estimators=None, n_jobs=None,\n",
       "              num_parallel_tree=None, random_state=1, ...)</pre><b>In a Jupyter environment, please rerun this cell to show the HTML representation or trust the notebook. <br />On GitHub, the HTML representation is unable to render, please try loading this page with nbviewer.org.</b></div><div class=\"sk-container\" hidden><div class=\"sk-item\"><div class=\"sk-estimator sk-toggleable\"><input class=\"sk-toggleable__control sk-hidden--visually\" id=\"sk-estimator-id-3\" type=\"checkbox\" checked><label for=\"sk-estimator-id-3\" class=\"sk-toggleable__label sk-toggleable__label-arrow\">XGBClassifier</label><div class=\"sk-toggleable__content\"><pre>XGBClassifier(base_score=None, booster=None, callbacks=None,\n",
       "              colsample_bylevel=None, colsample_bynode=None,\n",
       "              colsample_bytree=None, device=None, early_stopping_rounds=None,\n",
       "              enable_categorical=False, eval_metric=None, feature_types=None,\n",
       "              gamma=None, grow_policy=None, importance_type=None,\n",
       "              interaction_constraints=None, learning_rate=None, max_bin=None,\n",
       "              max_cat_threshold=None, max_cat_to_onehot=None,\n",
       "              max_delta_step=None, max_depth=None, max_leaves=None,\n",
       "              min_child_weight=None, missing=nan, monotone_constraints=None,\n",
       "              multi_strategy=None, n_estimators=None, n_jobs=None,\n",
       "              num_parallel_tree=None, random_state=1, ...)</pre></div></div></div></div></div>"
      ],
      "text/plain": [
       "XGBClassifier(base_score=None, booster=None, callbacks=None,\n",
       "              colsample_bylevel=None, colsample_bynode=None,\n",
       "              colsample_bytree=None, device=None, early_stopping_rounds=None,\n",
       "              enable_categorical=False, eval_metric=None, feature_types=None,\n",
       "              gamma=None, grow_policy=None, importance_type=None,\n",
       "              interaction_constraints=None, learning_rate=None, max_bin=None,\n",
       "              max_cat_threshold=None, max_cat_to_onehot=None,\n",
       "              max_delta_step=None, max_depth=None, max_leaves=None,\n",
       "              min_child_weight=None, missing=nan, monotone_constraints=None,\n",
       "              multi_strategy=None, n_estimators=None, n_jobs=None,\n",
       "              num_parallel_tree=None, random_state=1, ...)"
      ]
     },
     "execution_count": 25,
     "metadata": {},
     "output_type": "execute_result"
    }
   ],
   "source": [
    "scale_pos_weight = len(y_train[y_train == 0]) / len(y_train[y_train == 1])\n",
    "xgb_model2 = XGBClassifier(scale_pos_weight=scale_pos_weight,random_state=1)\n",
    "xgb_model2.fit(X_train, y_train)"
   ]
  },
  {
   "cell_type": "code",
   "execution_count": 26,
   "id": "fcbd52a5",
   "metadata": {},
   "outputs": [],
   "source": [
    "predicted_y_train = xgb_model2.predict(X_train)\n",
    "predicted_y_test = xgb_model2.predict(X_test)"
   ]
  },
  {
   "cell_type": "code",
   "execution_count": 27,
   "id": "a45bd18c",
   "metadata": {},
   "outputs": [
    {
     "name": "stdout",
     "output_type": "stream",
     "text": [
      "Accuracy: 0.780728051391863\n",
      "Precision: 0.48223350253807107\n",
      "Recall: 0.6820512820512821\n",
      "F1 Score: 0.5649957519116398\n",
      "Confusion Matrix:\n",
      " [[2981  714]\n",
      " [ 310  665]]\n",
      "Classification Report:\n",
      "               precision    recall  f1-score   support\n",
      "\n",
      "           0       0.91      0.81      0.85      3695\n",
      "           1       0.48      0.68      0.56       975\n",
      "\n",
      "    accuracy                           0.78      4670\n",
      "   macro avg       0.69      0.74      0.71      4670\n",
      "weighted avg       0.82      0.78      0.79      4670\n",
      "\n"
     ]
    }
   ],
   "source": [
    "print(\"Accuracy:\", accuracy_score(y_train, predicted_y_train))\n",
    "print(\"Precision:\", precision_score(y_train, predicted_y_train))\n",
    "print(\"Recall:\", recall_score(y_train, predicted_y_train))\n",
    "print(\"F1 Score:\", f1_score(y_train, predicted_y_train))\n",
    "print(\"Confusion Matrix:\\n\", confusion_matrix(y_train, predicted_y_train))\n",
    "print(\"Classification Report:\\n\", classification_report(y_train, predicted_y_train))"
   ]
  },
  {
   "cell_type": "code",
   "execution_count": 28,
   "id": "77c9218f",
   "metadata": {},
   "outputs": [
    {
     "name": "stdout",
     "output_type": "stream",
     "text": [
      "Accuracy: 0.7859531772575251\n",
      "Precision: 0.4807121661721068\n",
      "Recall: 0.6666666666666666\n",
      "F1 Score: 0.5586206896551723\n",
      "Confusion Matrix:\n",
      " [[778 175]\n",
      " [ 81 162]]\n",
      "Classification Report:\n",
      "               precision    recall  f1-score   support\n",
      "\n",
      "           0       0.91      0.82      0.86       953\n",
      "           1       0.48      0.67      0.56       243\n",
      "\n",
      "    accuracy                           0.79      1196\n",
      "   macro avg       0.69      0.74      0.71      1196\n",
      "weighted avg       0.82      0.79      0.80      1196\n",
      "\n"
     ]
    }
   ],
   "source": [
    "print(\"Accuracy:\", accuracy_score(y_test, predicted_y_test))\n",
    "print(\"Precision:\", precision_score(y_test, predicted_y_test))\n",
    "print(\"Recall:\", recall_score(y_test, predicted_y_test))\n",
    "print(\"F1 Score:\", f1_score(y_test, predicted_y_test))\n",
    "print(\"Confusion Matrix:\\n\", confusion_matrix(y_test, predicted_y_test))\n",
    "print(\"Classification Report:\\n\", classification_report(y_test, predicted_y_test))"
   ]
  },
  {
   "cell_type": "code",
   "execution_count": 30,
   "id": "78b98afb",
   "metadata": {},
   "outputs": [],
   "source": [
    "# Predict probabilities for the training data\n",
    "probs_train = xgb_model2.predict_proba(X_train)[:, 1]  \n",
    "\n",
    "# Predict probabilities for the testing data\n",
    "probs_test = xgb_model2.predict_proba(X_test)[:, 1]  "
   ]
  },
  {
   "cell_type": "code",
   "execution_count": 31,
   "id": "0d730071",
   "metadata": {},
   "outputs": [
    {
     "data": {
      "image/png": "[encoded data removed]",
      "text/plain": [
       "<Figure size 640x480 with 1 Axes>"
      ]
     },
     "metadata": {},
     "output_type": "display_data"
    }
   ],
   "source": [
    "from sklearn.metrics import precision_recall_curve\n",
    "\n",
    "\n",
    "precision, recall, thresholds = precision_recall_curve(y_train, probs_train)\n",
    "\n",
    "# Plot the precision-recall curve \n",
    "import matplotlib.pyplot as plt\n",
    "\n",
    "plt.plot(thresholds, precision[:-1], label='Precision')\n",
    "plt.plot(thresholds, recall[:-1], label='Recall')\n",
    "plt.xlabel('Threshold')\n",
    "plt.ylabel('Score')\n",
    "plt.legend()\n",
    "plt.title('Precision-Recall vs Threshold')\n",
    "plt.show()\n"
   ]
  },
  {
   "cell_type": "code",
   "execution_count": 45,
   "id": "4ffc4a30",
   "metadata": {},
   "outputs": [],
   "source": [
    "# Classify training data using the optimal threshold\n",
    "predicted_y_train = (probs_train >= 0.7).astype(int)\n",
    "\n",
    "# Classify testing data using the same threshold\n",
    "predicted_y_test = (probs_test >= 0.7).astype(int)\n"
   ]
  },
  {
   "cell_type": "code",
   "execution_count": 46,
   "id": "e95cff57",
   "metadata": {},
   "outputs": [
    {
     "name": "stdout",
     "output_type": "stream",
     "text": [
      "Training Evaluation:\n",
      "Accuracy: 0.8207708779443255\n",
      "Precision: 0.5676470588235294\n",
      "Recall: 0.5938461538461538\n",
      "F1 Score: 0.5804511278195488\n",
      "Confusion Matrix:\n",
      " [[3254  441]\n",
      " [ 396  579]]\n",
      "Classification Report:\n",
      "               precision    recall  f1-score   support\n",
      "\n",
      "           0       0.89      0.88      0.89      3695\n",
      "           1       0.57      0.59      0.58       975\n",
      "\n",
      "    accuracy                           0.82      4670\n",
      "   macro avg       0.73      0.74      0.73      4670\n",
      "weighted avg       0.82      0.82      0.82      4670\n",
      "\n",
      "\n",
      "Testing Evaluation:\n",
      "Accuracy: 0.8319397993311036\n",
      "Precision: 0.5846774193548387\n",
      "Recall: 0.5967078189300411\n",
      "F1 Score: 0.5906313645621181\n",
      "Confusion Matrix:\n",
      " [[850 103]\n",
      " [ 98 145]]\n",
      "Classification Report:\n",
      "               precision    recall  f1-score   support\n",
      "\n",
      "           0       0.90      0.89      0.89       953\n",
      "           1       0.58      0.60      0.59       243\n",
      "\n",
      "    accuracy                           0.83      1196\n",
      "   macro avg       0.74      0.74      0.74      1196\n",
      "weighted avg       0.83      0.83      0.83      1196\n",
      "\n"
     ]
    }
   ],
   "source": [
    "from sklearn.metrics import accuracy_score, precision_score, recall_score, f1_score\n",
    "\n",
    "# Training evaluations\n",
    "print(\"Training Evaluation:\")\n",
    "print(\"Accuracy:\", accuracy_score(y_train, predicted_y_train))\n",
    "print(\"Precision:\", precision_score(y_train, predicted_y_train))\n",
    "print(\"Recall:\", recall_score(y_train, predicted_y_train))\n",
    "print(\"F1 Score:\", f1_score(y_train, predicted_y_train))\n",
    "print(\"Confusion Matrix:\\n\", confusion_matrix(y_train, predicted_y_train))\n",
    "print(\"Classification Report:\\n\", classification_report(y_train, predicted_y_train))\n",
    "\n",
    "# Testing evaluations\n",
    "print(\"\\nTesting Evaluation:\")\n",
    "print(\"Accuracy:\", accuracy_score(y_test, predicted_y_test))\n",
    "print(\"Precision:\", precision_score(y_test, predicted_y_test))\n",
    "print(\"Recall:\", recall_score(y_test, predicted_y_test))\n",
    "print(\"F1 Score:\", f1_score(y_test, predicted_y_test))\n",
    "print(\"Confusion Matrix:\\n\", confusion_matrix(y_test, predicted_y_test))\n",
    "print(\"Classification Report:\\n\", classification_report(y_test, predicted_y_test))"
   ]
  },
  {
   "cell_type": "markdown",
   "id": "2a6fe290",
   "metadata": {},
   "source": [
    "## 2. Using `RandomForestClassifier` to train the model"
   ]
  },
  {
   "cell_type": "code",
   "execution_count": 48,
   "id": "48d02712",
   "metadata": {},
   "outputs": [
    {
     "data": {
      "text/html": [
       "<style>#sk-container-id-4 {color: black;}#sk-container-id-4 pre{padding: 0;}#sk-container-id-4 div.sk-toggleable {background-color: white;}#sk-container-id-4 label.sk-toggleable__label {cursor: pointer;display: block;width: 100%;margin-bottom: 0;padding: 0.3em;box-sizing: border-box;text-align: center;}#sk-container-id-4 label.sk-toggleable__label-arrow:before {content: \"▸\";float: left;margin-right: 0.25em;color: #696969;}#sk-container-id-4 label.sk-toggleable__label-arrow:hover:before {color: black;}#sk-container-id-4 div.sk-estimator:hover label.sk-toggleable__label-arrow:before {color: black;}#sk-container-id-4 div.sk-toggleable__content {max-height: 0;max-width: 0;overflow: hidden;text-align: left;background-color: #f0f8ff;}#sk-container-id-4 div.sk-toggleable__content pre {margin: 0.2em;color: black;border-radius: 0.25em;background-color: #f0f8ff;}#sk-container-id-4 input.sk-toggleable__control:checked~div.sk-toggleable__content {max-height: 200px;max-width: 100%;overflow: auto;}#sk-container-id-4 input.sk-toggleable__control:checked~label.sk-toggleable__label-arrow:before {content: \"▾\";}#sk-container-id-4 div.sk-estimator input.sk-toggleable__control:checked~label.sk-toggleable__label {background-color: #d4ebff;}#sk-container-id-4 div.sk-label input.sk-toggleable__control:checked~label.sk-toggleable__label {background-color: #d4ebff;}#sk-container-id-4 input.sk-hidden--visually {border: 0;clip: rect(1px 1px 1px 1px);clip: rect(1px, 1px, 1px, 1px);height: 1px;margin: -1px;overflow: hidden;padding: 0;position: absolute;width: 1px;}#sk-container-id-4 div.sk-estimator {font-family: monospace;background-color: #f0f8ff;border: 1px dotted black;border-radius: 0.25em;box-sizing: border-box;margin-bottom: 0.5em;}#sk-container-id-4 div.sk-estimator:hover {background-color: #d4ebff;}#sk-container-id-4 div.sk-parallel-item::after {content: \"\";width: 100%;border-bottom: 1px solid gray;flex-grow: 1;}#sk-container-id-4 div.sk-label:hover label.sk-toggleable__label {background-color: #d4ebff;}#sk-container-id-4 div.sk-serial::before {content: \"\";position: absolute;border-left: 1px solid gray;box-sizing: border-box;top: 0;bottom: 0;left: 50%;z-index: 0;}#sk-container-id-4 div.sk-serial {display: flex;flex-direction: column;align-items: center;background-color: white;padding-right: 0.2em;padding-left: 0.2em;position: relative;}#sk-container-id-4 div.sk-item {position: relative;z-index: 1;}#sk-container-id-4 div.sk-parallel {display: flex;align-items: stretch;justify-content: center;background-color: white;position: relative;}#sk-container-id-4 div.sk-item::before, #sk-container-id-4 div.sk-parallel-item::before {content: \"\";position: absolute;border-left: 1px solid gray;box-sizing: border-box;top: 0;bottom: 0;left: 50%;z-index: -1;}#sk-container-id-4 div.sk-parallel-item {display: flex;flex-direction: column;z-index: 1;position: relative;background-color: white;}#sk-container-id-4 div.sk-parallel-item:first-child::after {align-self: flex-end;width: 50%;}#sk-container-id-4 div.sk-parallel-item:last-child::after {align-self: flex-start;width: 50%;}#sk-container-id-4 div.sk-parallel-item:only-child::after {width: 0;}#sk-container-id-4 div.sk-dashed-wrapped {border: 1px dashed gray;margin: 0 0.4em 0.5em 0.4em;box-sizing: border-box;padding-bottom: 0.4em;background-color: white;}#sk-container-id-4 div.sk-label label {font-family: monospace;font-weight: bold;display: inline-block;line-height: 1.2em;}#sk-container-id-4 div.sk-label-container {text-align: center;}#sk-container-id-4 div.sk-container {/* jupyter's `normalize.less` sets `[hidden] { display: none; }` but bootstrap.min.css set `[hidden] { display: none !important; }` so we also need the `!important` here to be able to override the default hidden behavior on the sphinx rendered scikit-learn.org. See: https://github.com/scikit-learn/scikit-learn/issues/21755 */display: inline-block !important;position: relative;}#sk-container-id-4 div.sk-text-repr-fallback {display: none;}</style><div id=\"sk-container-id-4\" class=\"sk-top-container\"><div class=\"sk-text-repr-fallback\"><pre>RandomForestClassifier(random_state=1)</pre><b>In a Jupyter environment, please rerun this cell to show the HTML representation or trust the notebook. <br />On GitHub, the HTML representation is unable to render, please try loading this page with nbviewer.org.</b></div><div class=\"sk-container\" hidden><div class=\"sk-item\"><div class=\"sk-estimator sk-toggleable\"><input class=\"sk-toggleable__control sk-hidden--visually\" id=\"sk-estimator-id-4\" type=\"checkbox\" checked><label for=\"sk-estimator-id-4\" class=\"sk-toggleable__label sk-toggleable__label-arrow\">RandomForestClassifier</label><div class=\"sk-toggleable__content\"><pre>RandomForestClassifier(random_state=1)</pre></div></div></div></div></div>"
      ],
      "text/plain": [
       "RandomForestClassifier(random_state=1)"
      ]
     },
     "execution_count": 48,
     "metadata": {},
     "output_type": "execute_result"
    }
   ],
   "source": [
    "rf_model1 = RandomForestClassifier(random_state=1)\n",
    "rf_model1.fit(X_train, y_train)"
   ]
  },
  {
   "cell_type": "code",
   "execution_count": 51,
   "id": "41ebecaf",
   "metadata": {},
   "outputs": [],
   "source": [
    "predicted_y_train = rf_model1.predict(X_train)\n",
    "predicted_y_test = rf_model1.predict(X_test)"
   ]
  },
  {
   "cell_type": "code",
   "execution_count": 52,
   "id": "16129611",
   "metadata": {},
   "outputs": [
    {
     "name": "stdout",
     "output_type": "stream",
     "text": [
      "Training Evaluation:\n",
      "Accuracy: 0.826338329764454\n",
      "Precision: 0.6501831501831502\n",
      "Recall: 0.3641025641025641\n",
      "F1 Score: 0.46679815910585143\n",
      "Confusion Matrix:\n",
      " [[3504  191]\n",
      " [ 620  355]]\n",
      "Classification Report:\n",
      "               precision    recall  f1-score   support\n",
      "\n",
      "           0       0.85      0.95      0.90      3695\n",
      "           1       0.65      0.36      0.47       975\n",
      "\n",
      "    accuracy                           0.83      4670\n",
      "   macro avg       0.75      0.66      0.68      4670\n",
      "weighted avg       0.81      0.83      0.81      4670\n",
      "\n",
      "\n",
      "Testing Evaluation:\n",
      "Accuracy: 0.8361204013377926\n",
      "Precision: 0.6821705426356589\n",
      "Recall: 0.36213991769547327\n",
      "F1 Score: 0.4731182795698925\n",
      "Confusion Matrix:\n",
      " [[912  41]\n",
      " [155  88]]\n",
      "Classification Report:\n",
      "               precision    recall  f1-score   support\n",
      "\n",
      "           0       0.85      0.96      0.90       953\n",
      "           1       0.68      0.36      0.47       243\n",
      "\n",
      "    accuracy                           0.84      1196\n",
      "   macro avg       0.77      0.66      0.69      1196\n",
      "weighted avg       0.82      0.84      0.82      1196\n",
      "\n"
     ]
    }
   ],
   "source": [
    "# Training evaluations\n",
    "print(\"Training Evaluation:\")\n",
    "print(\"Accuracy:\", accuracy_score(y_train, predicted_y_train))\n",
    "print(\"Precision:\", precision_score(y_train, predicted_y_train))\n",
    "print(\"Recall:\", recall_score(y_train, predicted_y_train))\n",
    "print(\"F1 Score:\", f1_score(y_train, predicted_y_train))\n",
    "print(\"Confusion Matrix:\\n\", confusion_matrix(y_train, predicted_y_train))\n",
    "print(\"Classification Report:\\n\", classification_report(y_train, predicted_y_train))\n",
    "\n",
    "# Testing evaluations\n",
    "print(\"\\nTesting Evaluation:\")\n",
    "print(\"Accuracy:\", accuracy_score(y_test, predicted_y_test))\n",
    "print(\"Precision:\", precision_score(y_test, predicted_y_test))\n",
    "print(\"Recall:\", recall_score(y_test, predicted_y_test))\n",
    "print(\"F1 Score:\", f1_score(y_test, predicted_y_test))\n",
    "print(\"Confusion Matrix:\\n\", confusion_matrix(y_test, predicted_y_test))\n",
    "print(\"Classification Report:\\n\", classification_report(y_test, predicted_y_test))"
   ]
  },
  {
   "cell_type": "code",
   "execution_count": 56,
   "id": "115ff8b8",
   "metadata": {},
   "outputs": [],
   "source": [
    "# Predict probabilities for the training data\n",
    "probs_train = rf_model1.predict_proba(X_train)[:, 1] \n",
    "\n",
    "# Predict probabilities for the testing data\n",
    "probs_test = rf_model1.predict_proba(X_test)[:, 1]  "
   ]
  },
  {
   "cell_type": "code",
   "execution_count": 57,
   "id": "fde62991",
   "metadata": {},
   "outputs": [
    {
     "data": {
      "image/png": "[encoded data removed]",
      "text/plain": [
       "<Figure size 640x480 with 1 Axes>"
      ]
     },
     "metadata": {},
     "output_type": "display_data"
    }
   ],
   "source": [
    "from sklearn.metrics import precision_recall_curve\n",
    "\n",
    "# Calculate precision, recall, and thresholds\n",
    "precision, recall, thresholds = precision_recall_curve(y_train, probs_train)\n",
    "\n",
    "# Plot the precision-recall curve \n",
    "import matplotlib.pyplot as plt\n",
    "\n",
    "plt.plot(thresholds, precision[:-1], label='Precision')\n",
    "plt.plot(thresholds, recall[:-1], label='Recall')\n",
    "plt.xlabel('Threshold')\n",
    "plt.ylabel('Score')\n",
    "plt.legend()\n",
    "plt.title('Precision-Recall vs Threshold')\n",
    "plt.show()\n"
   ]
  },
  {
   "cell_type": "code",
   "execution_count": 62,
   "id": "c9a8af50",
   "metadata": {},
   "outputs": [],
   "source": [
    "# Classify training data using the optimal threshold\n",
    "predicted_y_train = (probs_train >= 0.4).astype(int)\n",
    "\n",
    "# Classify testing data using the same threshold\n",
    "predicted_y_test = (probs_test >= 0.4).astype(int)"
   ]
  },
  {
   "cell_type": "code",
   "execution_count": 63,
   "id": "b75454eb",
   "metadata": {},
   "outputs": [
    {
     "name": "stdout",
     "output_type": "stream",
     "text": [
      "Training Evaluation:\n",
      "Accuracy: 0.8207708779443255\n",
      "Precision: 0.5676470588235294\n",
      "Recall: 0.5938461538461538\n",
      "F1 Score: 0.5804511278195488\n",
      "Confusion Matrix:\n",
      " [[3254  441]\n",
      " [ 396  579]]\n",
      "Classification Report:\n",
      "               precision    recall  f1-score   support\n",
      "\n",
      "           0       0.89      0.88      0.89      3695\n",
      "           1       0.57      0.59      0.58       975\n",
      "\n",
      "    accuracy                           0.82      4670\n",
      "   macro avg       0.73      0.74      0.73      4670\n",
      "weighted avg       0.82      0.82      0.82      4670\n",
      "\n",
      "\n",
      "Testing Evaluation:\n",
      "Accuracy: 0.8319397993311036\n",
      "Precision: 0.5846774193548387\n",
      "Recall: 0.5967078189300411\n",
      "F1 Score: 0.5906313645621181\n",
      "Confusion Matrix:\n",
      " [[850 103]\n",
      " [ 98 145]]\n",
      "Classification Report:\n",
      "               precision    recall  f1-score   support\n",
      "\n",
      "           0       0.90      0.89      0.89       953\n",
      "           1       0.58      0.60      0.59       243\n",
      "\n",
      "    accuracy                           0.83      1196\n",
      "   macro avg       0.74      0.74      0.74      1196\n",
      "weighted avg       0.83      0.83      0.83      1196\n",
      "\n"
     ]
    }
   ],
   "source": [
    "# Training evaluations\n",
    "print(\"Training Evaluation:\")\n",
    "print(\"Accuracy:\", accuracy_score(y_train, predicted_y_train))\n",
    "print(\"Precision:\", precision_score(y_train, predicted_y_train))\n",
    "print(\"Recall:\", recall_score(y_train, predicted_y_train))\n",
    "print(\"F1 Score:\", f1_score(y_train, predicted_y_train))\n",
    "print(\"Confusion Matrix:\\n\", confusion_matrix(y_train, predicted_y_train))\n",
    "print(\"Classification Report:\\n\", classification_report(y_train, predicted_y_train))\n",
    "\n",
    "# Testing evaluations\n",
    "print(\"\\nTesting Evaluation:\")\n",
    "print(\"Accuracy:\", accuracy_score(y_test, predicted_y_test))\n",
    "print(\"Precision:\", precision_score(y_test, predicted_y_test))\n",
    "print(\"Recall:\", recall_score(y_test, predicted_y_test))\n",
    "print(\"F1 Score:\", f1_score(y_test, predicted_y_test))\n",
    "print(\"Confusion Matrix:\\n\", confusion_matrix(y_test, predicted_y_test))\n",
    "print(\"Classification Report:\\n\", classification_report(y_test, predicted_y_test))"
   ]
  },
  {
   "cell_type": "code",
   "execution_count": null,
   "id": "c48bd7e9",
   "metadata": {},
   "outputs": [],
   "source": []
  }
 ],
 "metadata": {
  "kernelspec": {
   "display_name": "Python 3 (ipykernel)",
   "language": "python",
   "name": "python3"
  },
  "language_info": {
   "codemirror_mode": {
    "name": "ipython",
    "version": 3
   },
   "file_extension": ".py",
   "mimetype": "text/x-python",
   "name": "python",
   "nbconvert_exporter": "python",
   "pygments_lexer": "ipython3",
   "version": "3.11.7"
  }
 },
 "nbformat": 4,
 "nbformat_minor": 5
}
