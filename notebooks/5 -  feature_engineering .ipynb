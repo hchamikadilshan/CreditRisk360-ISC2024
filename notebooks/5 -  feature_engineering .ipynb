{
 "cells": [
  {
   "cell_type": "code",
   "execution_count": 1,
   "id": "e9a9c63d",
   "metadata": {},
   "outputs": [],
   "source": [
    "import pandas as pd\n",
    "from sklearn.feature_selection import mutual_info_classif\n",
    "import matplotlib.pyplot as plt\n",
    "from sklearn.preprocessing import OneHotEncoder"
   ]
  },
  {
   "cell_type": "code",
   "execution_count": 2,
   "id": "028e44c4",
   "metadata": {},
   "outputs": [],
   "source": [
    "train_data = pd.read_csv(\"../data/preprocessed_train_data.csv\")\n",
    "test_data = pd.read_csv(\"../data/preprocessed_test_data.csv\")"
   ]
  },
  {
   "cell_type": "code",
   "execution_count": 3,
   "id": "0da5efdd",
   "metadata": {},
   "outputs": [
    {
     "name": "stdout",
     "output_type": "stream",
     "text": [
      "<class 'pandas.core.frame.DataFrame'>\n",
      "RangeIndex: 5398 entries, 0 to 5397\n",
      "Data columns (total 23 columns):\n",
      " #   Column                                   Non-Null Count  Dtype  \n",
      "---  ------                                   --------------  -----  \n",
      " 0   account_open_date                        5398 non-null   object \n",
      " 1   age                                      5398 non-null   int64  \n",
      " 2   location                                 5398 non-null   object \n",
      " 3   occupation                               5398 non-null   object \n",
      " 4   income_level                             5398 non-null   int64  \n",
      " 5   fico_score                               5398 non-null   float64\n",
      " 6   delinquency_status                       5398 non-null   int64  \n",
      " 7   charge_off_status                        5398 non-null   int64  \n",
      " 8   number_of_credit_applications            5398 non-null   int64  \n",
      " 9   debt_to_income_ratio                     5398 non-null   float64\n",
      " 10  payment_methods_high_risk                5398 non-null   int64  \n",
      " 11  max_balance                              5398 non-null   float64\n",
      " 12  avg_balance_last_12months                5398 non-null   float64\n",
      " 13  number_of_delinquent_accounts            5398 non-null   float64\n",
      " 14  number_of_defaulted_accounts             5398 non-null   int64  \n",
      " 15  earliest_credit_account                  5398 non-null   object \n",
      " 16  recent_trade_activity                    5398 non-null   object \n",
      " 17  new_accounts_opened_last_12months        5398 non-null   int64  \n",
      " 18  multiple_applications_short_time_period  5398 non-null   int64  \n",
      " 19  unusual_submission_pattern               5398 non-null   int64  \n",
      " 20  applications_submitted_during_odd_hours  5398 non-null   int64  \n",
      " 21  watchlist_blacklist_flag                 5398 non-null   int64  \n",
      " 22  public_records_flag                      5398 non-null   int64  \n",
      "dtypes: float64(5), int64(13), object(5)\n",
      "memory usage: 970.1+ KB\n",
      "<class 'pandas.core.frame.DataFrame'>\n",
      "RangeIndex: 1350 entries, 0 to 1349\n",
      "Data columns (total 23 columns):\n",
      " #   Column                                   Non-Null Count  Dtype  \n",
      "---  ------                                   --------------  -----  \n",
      " 0   account_open_date                        1350 non-null   object \n",
      " 1   age                                      1350 non-null   int64  \n",
      " 2   location                                 1350 non-null   object \n",
      " 3   occupation                               1350 non-null   object \n",
      " 4   income_level                             1350 non-null   int64  \n",
      " 5   fico_score                               1350 non-null   float64\n",
      " 6   delinquency_status                       1350 non-null   int64  \n",
      " 7   charge_off_status                        1350 non-null   int64  \n",
      " 8   number_of_credit_applications            1350 non-null   int64  \n",
      " 9   debt_to_income_ratio                     1350 non-null   float64\n",
      " 10  payment_methods_high_risk                1350 non-null   int64  \n",
      " 11  max_balance                              1350 non-null   float64\n",
      " 12  avg_balance_last_12months                1350 non-null   float64\n",
      " 13  number_of_delinquent_accounts            1350 non-null   float64\n",
      " 14  number_of_defaulted_accounts             1350 non-null   int64  \n",
      " 15  earliest_credit_account                  1350 non-null   object \n",
      " 16  recent_trade_activity                    1350 non-null   object \n",
      " 17  new_accounts_opened_last_12months        1350 non-null   int64  \n",
      " 18  multiple_applications_short_time_period  1350 non-null   int64  \n",
      " 19  unusual_submission_pattern               1350 non-null   int64  \n",
      " 20  applications_submitted_during_odd_hours  1350 non-null   int64  \n",
      " 21  watchlist_blacklist_flag                 1350 non-null   int64  \n",
      " 22  public_records_flag                      1350 non-null   int64  \n",
      "dtypes: float64(5), int64(13), object(5)\n",
      "memory usage: 242.7+ KB\n"
     ]
    }
   ],
   "source": [
    "train_data.info()\n",
    "test_data.info()"
   ]
  },
  {
   "cell_type": "markdown",
   "id": "74a19cb4",
   "metadata": {},
   "source": [
    "## Tranforming Date columns to Days"
   ]
  },
  {
   "cell_type": "code",
   "execution_count": 4,
   "id": "ec3ca974",
   "metadata": {},
   "outputs": [],
   "source": [
    "# Object -> Date\n",
    "train_data['account_open_date'] = pd.to_datetime(train_data['account_open_date'])\n",
    "train_data['earliest_credit_account'] = pd.to_datetime(train_data['earliest_credit_account'])\n",
    "train_data['recent_trade_activity'] = pd.to_datetime(train_data['recent_trade_activity'])\n",
    "\n",
    "test_data['account_open_date'] = pd.to_datetime(test_data['account_open_date'])\n",
    "test_data['earliest_credit_account'] = pd.to_datetime(test_data['earliest_credit_account'])\n",
    "test_data['recent_trade_activity'] = pd.to_datetime(test_data['recent_trade_activity'])"
   ]
  },
  {
   "cell_type": "code",
   "execution_count": 5,
   "id": "5171cfee",
   "metadata": {},
   "outputs": [],
   "source": [
    "#Date -> Days\n",
    "\n",
    "train_data[\"account_age_days\"] = (pd.Timestamp(\"today\") - train_data[\"account_open_date\"]).dt.days\n",
    "train_data[\"earliest_credit_account_age_days\"] = (pd.Timestamp(\"today\") - train_data[\"earliest_credit_account\"]).dt.days\n",
    "train_data[\"days_recent_trade_activity\"] = (pd.Timestamp(\"today\") - train_data[\"recent_trade_activity\"]).dt.days\n",
    "\n",
    "test_data[\"account_age_days\"] = (pd.Timestamp(\"today\") - test_data[\"account_open_date\"]).dt.days\n",
    "test_data[\"earliest_credit_account_age_days\"] = (pd.Timestamp(\"today\") - test_data[\"earliest_credit_account\"]).dt.days\n",
    "test_data[\"days_recent_trade_activity\"] = (pd.Timestamp(\"today\") - test_data[\"recent_trade_activity\"]).dt.days"
   ]
  },
  {
   "cell_type": "code",
   "execution_count": 6,
   "id": "8c5e2f5b",
   "metadata": {},
   "outputs": [],
   "source": [
    "# Dropping original date colcolumns \n",
    "\n",
    "columns_to_drop = ['account_open_date', 'earliest_credit_account', 'recent_trade_activity']\n",
    "\n",
    "train_data = train_data.drop(columns=columns_to_drop)\n",
    "test_data = test_data.drop(columns=columns_to_drop)"
   ]
  },
  {
   "cell_type": "code",
   "execution_count": 7,
   "id": "120bf3d3",
   "metadata": {},
   "outputs": [],
   "source": [
    "train_data_copy = train_data.copy()\n",
    "test_data_copy = test_data.copy()"
   ]
  },
  {
   "cell_type": "code",
   "execution_count": 8,
   "id": "0544c80a",
   "metadata": {},
   "outputs": [],
   "source": [
    "target = 'charge_off_status'\n",
    "\n",
    "X_train = train_data_copy.drop(columns=[target])  \n",
    "y_train = train_data_copy[target]  "
   ]
  },
  {
   "cell_type": "code",
   "execution_count": 9,
   "id": "55884252",
   "metadata": {},
   "outputs": [],
   "source": [
    "categorical_features = [\"occupation\", \"location\"]\n",
    "\n",
    "encoder = OneHotEncoder(handle_unknown='ignore', sparse_output=False)\n",
    "X_train_encoded = encoder.fit_transform(X_train[categorical_features])\n",
    "\n",
    "encoded_columns = encoder.get_feature_names_out(categorical_features)\n",
    "X_train_encoded = pd.DataFrame(X_train_encoded, columns=encoded_columns)\n",
    "\n",
    "X_train = X_train.drop(columns=categorical_features).reset_index(drop=True)\n",
    "\n",
    "X_train = pd.concat([X_train, X_train_encoded], axis=1)"
   ]
  },
  {
   "cell_type": "markdown",
   "id": "630c571f",
   "metadata": {},
   "source": [
    "## Mutual Information"
   ]
  },
  {
   "cell_type": "code",
   "execution_count": 10,
   "id": "58132475",
   "metadata": {},
   "outputs": [
    {
     "name": "stdout",
     "output_type": "stream",
     "text": [
      "                                    Feature  Mutual Information\n",
      "3                        delinquency_status            0.189941\n",
      "4             number_of_credit_applications            0.159818\n",
      "9             number_of_delinquent_accounts            0.152485\n",
      "10             number_of_defaulted_accounts            0.119434\n",
      "8                 avg_balance_last_12months            0.103676\n",
      "2                                fico_score            0.096409\n",
      "13               unusual_submission_pattern            0.086038\n",
      "6                 payment_methods_high_risk            0.071149\n",
      "11        new_accounts_opened_last_12months            0.070332\n",
      "5                      debt_to_income_ratio            0.055989\n",
      "7                               max_balance            0.054254\n",
      "12  multiple_applications_short_time_period            0.044583\n",
      "14  applications_submitted_during_odd_hours            0.033274\n",
      "23                    occupation_Consultant            0.017242\n",
      "28                 occupation_Retail Worker            0.009975\n",
      "21                        occupation_Artist            0.009065\n",
      "19               days_recent_trade_activity            0.007301\n",
      "39                   location_San Francisco            0.007295\n",
      "1                              income_level            0.006206\n",
      "27                         occupation_Other            0.005885\n",
      "16                      public_records_flag            0.005803\n",
      "22                        occupation_Banker            0.005670\n",
      "40                         location_Seattle            0.005145\n",
      "25                      occupation_Engineer            0.005097\n",
      "29            occupation_Software Developer            0.004543\n",
      "0                                       age            0.004302\n",
      "31                         location_Atlanta            0.003389\n",
      "15                 watchlist_blacklist_flag            0.001963\n",
      "17                         account_age_days            0.001155\n",
      "36                     location_Los Angeles            0.000438\n",
      "26                        occupation_Lawyer            0.000000\n",
      "24                        occupation_Doctor            0.000000\n",
      "18         earliest_credit_account_age_days            0.000000\n",
      "30                       occupation_Teacher            0.000000\n",
      "32                          location_Boston            0.000000\n",
      "33                         location_Chicago            0.000000\n",
      "34                          location_Dallas            0.000000\n",
      "35                         location_Houston            0.000000\n",
      "37                           location_Miami            0.000000\n",
      "38                        location_New York            0.000000\n",
      "20                    occupation_Accountant            0.000000\n"
     ]
    }
   ],
   "source": [
    "mi = mutual_info_classif(X_train, y_train)\n",
    "mi_df = pd.DataFrame({\n",
    "    'Feature': X_train.columns,\n",
    "    'Mutual Information': mi\n",
    "})\n",
    "mi_df_sorted = mi_df.sort_values(by='Mutual Information', ascending=False)\n",
    "print(mi_df_sorted)"
   ]
  },
  {
   "cell_type": "markdown",
   "id": "62cc515c",
   "metadata": {},
   "source": [
    "## Fico Score -> Fico Score category "
   ]
  },
  {
   "cell_type": "code",
   "execution_count": 11,
   "id": "98fca0cd",
   "metadata": {},
   "outputs": [],
   "source": [
    "bins = [0, 580, 669, 739, 799, 850]  \n",
    "labels = ['Poor', 'Fair', 'Good', 'Very Good', 'Exceptional']\n",
    "\n",
    "# bins = [0,  669, 739, 850]  \n",
    "# labels = ['Poor', 'Good', 'Very Good']\n",
    "\n",
    "train_data_copy['fico_category'] = pd.cut(train_data_copy['fico_score'], bins=bins, labels=labels, right=False)"
   ]
  },
  {
   "cell_type": "code",
   "execution_count": 12,
   "id": "d760bdb4",
   "metadata": {},
   "outputs": [
    {
     "name": "stderr",
     "output_type": "stream",
     "text": [
      "C:\\Users\\hcham\\AppData\\Local\\Temp\\ipykernel_28588\\1313621077.py:2: FutureWarning: The default of observed=False is deprecated and will be changed to True in a future version of pandas. Pass observed=False to retain current behavior or observed=True to adopt the future default and silence this warning.\n",
      "  pivot_table = train_data_copy.groupby([\"fico_category\", \"charge_off_status\"]).size().unstack()\n"
     ]
    },
    {
     "data": {
      "text/plain": [
       "<Figure size 600x400 with 0 Axes>"
      ]
     },
     "metadata": {},
     "output_type": "display_data"
    },
    {
     "data": {
      "image/png": "[encoded data removed]",
      "text/plain": [
       "<Figure size 640x480 with 1 Axes>"
      ]
     },
     "metadata": {},
     "output_type": "display_data"
    }
   ],
   "source": [
    "plt.figure(figsize=(6, 4))\n",
    "pivot_table = train_data_copy.groupby([\"fico_category\", \"charge_off_status\"]).size().unstack()\n",
    "pivot_table_percentage = pivot_table.div(pivot_table.sum(axis=1), axis=0) * 100\n",
    "pivot_table_percentage.plot(kind=\"bar\", stacked=True )\n",
    "plt.title(\"Charge-Off Status by fico_category (Percentage)\")\n",
    "plt.xlabel(\"fico_category\")\n",
    "plt.ylabel(\"Percentage\")\n",
    "plt.legend(title=\"Charge-Off Status\")\n",
    "plt.tick_params(axis='x', rotation=45)\n",
    "plt.show()"
   ]
  },
  {
   "cell_type": "code",
   "execution_count": 13,
   "id": "7fcdab9c",
   "metadata": {},
   "outputs": [],
   "source": [
    "# bins = [0, 580, 669, 739, 799, 850]  \n",
    "# labels = ['Poor', 'Fair', 'Good', 'Very Good', 'Exceptional']\n",
    "\n",
    "# train_data['fico_category'] = pd.cut(train_data['fico_score'], bins=bins, labels=labels, right=False)\n",
    "# test_data['fico_category'] = pd.cut(test_data['fico_score'], bins=bins, labels=labels, right=False)"
   ]
  },
  {
   "cell_type": "markdown",
   "id": "d1a7bcd0",
   "metadata": {},
   "source": [
    "## Age -> Age Categories "
   ]
  },
  {
   "cell_type": "code",
   "execution_count": 18,
   "id": "d623cc21",
   "metadata": {},
   "outputs": [],
   "source": [
    "bins = [0, 580, 669, 739, 799, 850]  \n",
    "labels = ['Poor', 'Fair', 'Good', 'Very Good', 'Exceptional']\n",
    "\n",
    "# bins = [0,  669, 739, 850]  \n",
    "# labels = ['Poor', 'Good', 'Very Good']\n",
    "\n",
    "train_data_copy['age_category'] = pd.cut(train_data_copy['age'], bins=bins, labels=labels, right=False)"
   ]
  },
  {
   "cell_type": "code",
   "execution_count": null,
   "id": "db5c4248",
   "metadata": {},
   "outputs": [],
   "source": [
    "plt.figure(figsize=(6, 4))\n",
    "pivot_table = train_data_copy.groupby([\"fico_category\", \"charge_off_status\"]).size().unstack()\n",
    "pivot_table_percentage = pivot_table.div(pivot_table.sum(axis=1), axis=0) * 100\n",
    "pivot_table_percentage.plot(kind=\"bar\", stacked=True )\n",
    "plt.title(\"Charge-Off Status by fico_category (Percentage)\")\n",
    "plt.xlabel(\"fico_category\")\n",
    "plt.ylabel(\"Percentage\")\n",
    "plt.legend(title=\"Charge-Off Status\")\n",
    "plt.tick_params(axis='x', rotation=45)\n",
    "plt.show()"
   ]
  },
  {
   "cell_type": "markdown",
   "id": "54c41f68",
   "metadata": {},
   "source": [
    "## Delinquency_status -> Delinquency_status Groups"
   ]
  },
  {
   "cell_type": "code",
   "execution_count": 15,
   "id": "d3c02766",
   "metadata": {},
   "outputs": [],
   "source": [
    "bins = [0, 72.5, float('inf')]  \n",
    "labels = ['Normal', 'High']\n",
    "\n",
    "train_data_copy['delinquency_group'] = pd.cut(train_data_copy['delinquency_status'], bins=bins, labels=labels, right=False)"
   ]
  },
  {
   "cell_type": "code",
   "execution_count": 16,
   "id": "e473086f",
   "metadata": {},
   "outputs": [
    {
     "name": "stdout",
     "output_type": "stream",
     "text": [
      "<class 'pandas.core.frame.DataFrame'>\n",
      "RangeIndex: 5398 entries, 0 to 5397\n",
      "Data columns (total 23 columns):\n",
      " #   Column                                   Non-Null Count  Dtype  \n",
      "---  ------                                   --------------  -----  \n",
      " 0   age                                      5398 non-null   int64  \n",
      " 1   location                                 5398 non-null   object \n",
      " 2   occupation                               5398 non-null   object \n",
      " 3   income_level                             5398 non-null   int64  \n",
      " 4   fico_score                               5398 non-null   float64\n",
      " 5   delinquency_status                       5398 non-null   int64  \n",
      " 6   charge_off_status                        5398 non-null   int64  \n",
      " 7   number_of_credit_applications            5398 non-null   int64  \n",
      " 8   debt_to_income_ratio                     5398 non-null   float64\n",
      " 9   payment_methods_high_risk                5398 non-null   int64  \n",
      " 10  max_balance                              5398 non-null   float64\n",
      " 11  avg_balance_last_12months                5398 non-null   float64\n",
      " 12  number_of_delinquent_accounts            5398 non-null   float64\n",
      " 13  number_of_defaulted_accounts             5398 non-null   int64  \n",
      " 14  new_accounts_opened_last_12months        5398 non-null   int64  \n",
      " 15  multiple_applications_short_time_period  5398 non-null   int64  \n",
      " 16  unusual_submission_pattern               5398 non-null   int64  \n",
      " 17  applications_submitted_during_odd_hours  5398 non-null   int64  \n",
      " 18  watchlist_blacklist_flag                 5398 non-null   int64  \n",
      " 19  public_records_flag                      5398 non-null   int64  \n",
      " 20  account_age_days                         5398 non-null   int64  \n",
      " 21  earliest_credit_account_age_days         5398 non-null   int64  \n",
      " 22  days_recent_trade_activity               5398 non-null   int64  \n",
      "dtypes: float64(5), int64(16), object(2)\n",
      "memory usage: 970.1+ KB\n",
      "<class 'pandas.core.frame.DataFrame'>\n",
      "RangeIndex: 1350 entries, 0 to 1349\n",
      "Data columns (total 23 columns):\n",
      " #   Column                                   Non-Null Count  Dtype  \n",
      "---  ------                                   --------------  -----  \n",
      " 0   age                                      1350 non-null   int64  \n",
      " 1   location                                 1350 non-null   object \n",
      " 2   occupation                               1350 non-null   object \n",
      " 3   income_level                             1350 non-null   int64  \n",
      " 4   fico_score                               1350 non-null   float64\n",
      " 5   delinquency_status                       1350 non-null   int64  \n",
      " 6   charge_off_status                        1350 non-null   int64  \n",
      " 7   number_of_credit_applications            1350 non-null   int64  \n",
      " 8   debt_to_income_ratio                     1350 non-null   float64\n",
      " 9   payment_methods_high_risk                1350 non-null   int64  \n",
      " 10  max_balance                              1350 non-null   float64\n",
      " 11  avg_balance_last_12months                1350 non-null   float64\n",
      " 12  number_of_delinquent_accounts            1350 non-null   float64\n",
      " 13  number_of_defaulted_accounts             1350 non-null   int64  \n",
      " 14  new_accounts_opened_last_12months        1350 non-null   int64  \n",
      " 15  multiple_applications_short_time_period  1350 non-null   int64  \n",
      " 16  unusual_submission_pattern               1350 non-null   int64  \n",
      " 17  applications_submitted_during_odd_hours  1350 non-null   int64  \n",
      " 18  watchlist_blacklist_flag                 1350 non-null   int64  \n",
      " 19  public_records_flag                      1350 non-null   int64  \n",
      " 20  account_age_days                         1350 non-null   int64  \n",
      " 21  earliest_credit_account_age_days         1350 non-null   int64  \n",
      " 22  days_recent_trade_activity               1350 non-null   int64  \n",
      "dtypes: float64(5), int64(16), object(2)\n",
      "memory usage: 242.7+ KB\n"
     ]
    }
   ],
   "source": [
    "train_data.info()\n",
    "test_data.info()"
   ]
  },
  {
   "cell_type": "code",
   "execution_count": 17,
   "id": "9e93c80c",
   "metadata": {},
   "outputs": [],
   "source": [
    "train_data.to_csv(\"../data/model_train_data.csv\", index=False)\n",
    "test_data.to_csv(\"../data/model_test_data.csv\", index=False)"
   ]
  },
  {
   "cell_type": "code",
   "execution_count": null,
   "id": "e6076274",
   "metadata": {},
   "outputs": [],
   "source": []
  }
 ],
 "metadata": {
  "kernelspec": {
   "display_name": "Python 3 (ipykernel)",
   "language": "python",
   "name": "python3"
  },
  "language_info": {
   "codemirror_mode": {
    "name": "ipython",
    "version": 3
   },
   "file_extension": ".py",
   "mimetype": "text/x-python",
   "name": "python",
   "nbconvert_exporter": "python",
   "pygments_lexer": "ipython3",
   "version": "3.11.7"
  }
 },
 "nbformat": 4,
 "nbformat_minor": 5
}
