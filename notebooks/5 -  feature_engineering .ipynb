{
 "cells": [
  {
   "cell_type": "code",
   "execution_count": 1,
   "id": "a55d6808",
   "metadata": {},
   "outputs": [],
   "source": [
    "import pandas as pd\n",
    "from sklearn.feature_selection import mutual_info_classif\n",
    "import matplotlib.pyplot as plt"
   ]
  },
  {
   "cell_type": "code",
   "execution_count": 2,
   "id": "a10ea7eb",
   "metadata": {},
   "outputs": [],
   "source": [
    "train_data = pd.read_csv(\"../data/preprocessed_train_data.csv\")\n",
    "test_data = pd.read_csv(\"../data/preprocessed_test_data.csv\")"
   ]
  },
  {
   "cell_type": "code",
   "execution_count": 3,
   "id": "bfb92352",
   "metadata": {},
   "outputs": [
    {
     "name": "stdout",
     "output_type": "stream",
     "text": [
      "<class 'pandas.core.frame.DataFrame'>\n",
      "RangeIndex: 5398 entries, 0 to 5397\n",
      "Data columns (total 23 columns):\n",
      " #   Column                                   Non-Null Count  Dtype  \n",
      "---  ------                                   --------------  -----  \n",
      " 0   account_open_date                        5398 non-null   object \n",
      " 1   age                                      5398 non-null   int64  \n",
      " 2   location                                 5398 non-null   object \n",
      " 3   occupation                               5398 non-null   object \n",
      " 4   income_level                             5398 non-null   int64  \n",
      " 5   fico_score                               5398 non-null   float64\n",
      " 6   delinquency_status                       5398 non-null   int64  \n",
      " 7   charge_off_status                        5398 non-null   int64  \n",
      " 8   number_of_credit_applications            5398 non-null   int64  \n",
      " 9   debt_to_income_ratio                     5398 non-null   float64\n",
      " 10  payment_methods_high_risk                5398 non-null   int64  \n",
      " 11  max_balance                              5398 non-null   float64\n",
      " 12  avg_balance_last_12months                5398 non-null   float64\n",
      " 13  number_of_delinquent_accounts            5398 non-null   float64\n",
      " 14  number_of_defaulted_accounts             5398 non-null   int64  \n",
      " 15  earliest_credit_account                  5398 non-null   object \n",
      " 16  recent_trade_activity                    5398 non-null   object \n",
      " 17  new_accounts_opened_last_12months        5398 non-null   int64  \n",
      " 18  multiple_applications_short_time_period  5398 non-null   int64  \n",
      " 19  unusual_submission_pattern               5398 non-null   int64  \n",
      " 20  applications_submitted_during_odd_hours  5398 non-null   int64  \n",
      " 21  watchlist_blacklist_flag                 5398 non-null   int64  \n",
      " 22  public_records_flag                      5398 non-null   int64  \n",
      "dtypes: float64(5), int64(13), object(5)\n",
      "memory usage: 970.1+ KB\n",
      "<class 'pandas.core.frame.DataFrame'>\n",
      "RangeIndex: 1350 entries, 0 to 1349\n",
      "Data columns (total 23 columns):\n",
      " #   Column                                   Non-Null Count  Dtype  \n",
      "---  ------                                   --------------  -----  \n",
      " 0   account_open_date                        1350 non-null   object \n",
      " 1   age                                      1350 non-null   int64  \n",
      " 2   location                                 1350 non-null   object \n",
      " 3   occupation                               1350 non-null   object \n",
      " 4   income_level                             1350 non-null   int64  \n",
      " 5   fico_score                               1350 non-null   float64\n",
      " 6   delinquency_status                       1350 non-null   int64  \n",
      " 7   charge_off_status                        1350 non-null   int64  \n",
      " 8   number_of_credit_applications            1350 non-null   int64  \n",
      " 9   debt_to_income_ratio                     1350 non-null   float64\n",
      " 10  payment_methods_high_risk                1350 non-null   int64  \n",
      " 11  max_balance                              1350 non-null   float64\n",
      " 12  avg_balance_last_12months                1350 non-null   float64\n",
      " 13  number_of_delinquent_accounts            1350 non-null   float64\n",
      " 14  number_of_defaulted_accounts             1350 non-null   int64  \n",
      " 15  earliest_credit_account                  1350 non-null   object \n",
      " 16  recent_trade_activity                    1350 non-null   object \n",
      " 17  new_accounts_opened_last_12months        1350 non-null   int64  \n",
      " 18  multiple_applications_short_time_period  1350 non-null   int64  \n",
      " 19  unusual_submission_pattern               1350 non-null   int64  \n",
      " 20  applications_submitted_during_odd_hours  1350 non-null   int64  \n",
      " 21  watchlist_blacklist_flag                 1350 non-null   int64  \n",
      " 22  public_records_flag                      1350 non-null   int64  \n",
      "dtypes: float64(5), int64(13), object(5)\n",
      "memory usage: 242.7+ KB\n"
     ]
    }
   ],
   "source": [
    "train_data.info()\n",
    "test_data.info()"
   ]
  },
  {
   "cell_type": "markdown",
   "id": "80bdf054",
   "metadata": {},
   "source": [
    "## Tranforming Date columns to Days"
   ]
  },
  {
   "cell_type": "code",
   "execution_count": 4,
   "id": "0d04b931",
   "metadata": {},
   "outputs": [],
   "source": [
    "# Object -> Date\n",
    "train_data['account_open_date'] = pd.to_datetime(train_data['account_open_date'])\n",
    "train_data['earliest_credit_account'] = pd.to_datetime(train_data['earliest_credit_account'])\n",
    "train_data['recent_trade_activity'] = pd.to_datetime(train_data['recent_trade_activity'])\n",
    "\n",
    "test_data['account_open_date'] = pd.to_datetime(test_data['account_open_date'])\n",
    "test_data['earliest_credit_account'] = pd.to_datetime(test_data['earliest_credit_account'])\n",
    "test_data['recent_trade_activity'] = pd.to_datetime(test_data['recent_trade_activity'])"
   ]
  },
  {
   "cell_type": "code",
   "execution_count": 5,
   "id": "bba01468",
   "metadata": {},
   "outputs": [],
   "source": [
    "#Date -> Days\n",
    "\n",
    "train_data[\"account_age_days\"] = (pd.Timestamp(\"today\") - train_data[\"account_open_date\"]).dt.days\n",
    "train_data[\"earliest_credit_account_age_days\"] = (pd.Timestamp(\"today\") - train_data[\"earliest_credit_account\"]).dt.days\n",
    "train_data[\"days_recent_trade_activity\"] = (pd.Timestamp(\"today\") - train_data[\"recent_trade_activity\"]).dt.days\n",
    "\n",
    "test_data[\"account_age_days\"] = (pd.Timestamp(\"today\") - test_data[\"account_open_date\"]).dt.days\n",
    "test_data[\"earliest_credit_account_age_days\"] = (pd.Timestamp(\"today\") - test_data[\"earliest_credit_account\"]).dt.days\n",
    "test_data[\"days_recent_trade_activity\"] = (pd.Timestamp(\"today\") - test_data[\"recent_trade_activity\"]).dt.days"
   ]
  },
  {
   "cell_type": "code",
   "execution_count": 6,
   "id": "75f0f7f1",
   "metadata": {},
   "outputs": [],
   "source": [
    "# Dropping original date colcolumns \n",
    "\n",
    "columns_to_drop = ['account_open_date', 'earliest_credit_account', 'recent_trade_activity']\n",
    "\n",
    "train_data = train_data.drop(columns=columns_to_drop)\n",
    "test_data = test_data.drop(columns=columns_to_drop)"
   ]
  },
  {
   "cell_type": "code",
   "execution_count": 7,
   "id": "d1491c05",
   "metadata": {},
   "outputs": [],
   "source": [
    "train_data_copy = train_data.copy()\n",
    "test_data_copy = test_data.copy()"
   ]
  },
  {
   "cell_type": "code",
   "execution_count": 8,
   "id": "c3bd5071",
   "metadata": {},
   "outputs": [],
   "source": [
    "target = 'charge_off_status'\n",
    "\n",
    "X_train = train_data_copy.drop(columns=[target])  \n",
    "y_train = train_data_copy[target]  "
   ]
  },
  {
   "cell_type": "code",
   "execution_count": 9,
   "id": "4a3f5e09",
   "metadata": {},
   "outputs": [
    {
     "ename": "NameError",
     "evalue": "name 'OneHotEncoder' is not defined",
     "output_type": "error",
     "traceback": [
      "\u001b[1;31m---------------------------------------------------------------------------\u001b[0m",
      "\u001b[1;31mNameError\u001b[0m                                 Traceback (most recent call last)",
      "Cell \u001b[1;32mIn[9], line 3\u001b[0m\n\u001b[0;32m      1\u001b[0m categorical_features \u001b[38;5;241m=\u001b[39m [\u001b[38;5;124m\"\u001b[39m\u001b[38;5;124moccupation\u001b[39m\u001b[38;5;124m\"\u001b[39m, \u001b[38;5;124m\"\u001b[39m\u001b[38;5;124mlocation\u001b[39m\u001b[38;5;124m\"\u001b[39m]\n\u001b[1;32m----> 3\u001b[0m encoder \u001b[38;5;241m=\u001b[39m \u001b[43mOneHotEncoder\u001b[49m(handle_unknown\u001b[38;5;241m=\u001b[39m\u001b[38;5;124m'\u001b[39m\u001b[38;5;124mignore\u001b[39m\u001b[38;5;124m'\u001b[39m, sparse_output\u001b[38;5;241m=\u001b[39m\u001b[38;5;28;01mFalse\u001b[39;00m)\n\u001b[0;32m      4\u001b[0m X_train_encoded \u001b[38;5;241m=\u001b[39m encoder\u001b[38;5;241m.\u001b[39mfit_transform(X_train[categorical_features])\n\u001b[0;32m      6\u001b[0m encoded_columns \u001b[38;5;241m=\u001b[39m encoder\u001b[38;5;241m.\u001b[39mget_feature_names_out(categorical_features)\n",
      "\u001b[1;31mNameError\u001b[0m: name 'OneHotEncoder' is not defined"
     ]
    }
   ],
   "source": [
    "categorical_features = [\"occupation\", \"location\"]\n",
    "\n",
    "encoder = OneHotEncoder(handle_unknown='ignore', sparse_output=False)\n",
    "X_train_encoded = encoder.fit_transform(X_train[categorical_features])\n",
    "\n",
    "encoded_columns = encoder.get_feature_names_out(categorical_features)\n",
    "X_train_encoded = pd.DataFrame(X_train_encoded, columns=encoded_columns)\n",
    "\n",
    "X_train = X_train.drop(columns=categorical_features).reset_index(drop=True)\n",
    "\n",
    "X_train = pd.concat([X_train, X_train_encoded], axis=1)"
   ]
  },
  {
   "cell_type": "markdown",
   "id": "5105dcb6",
   "metadata": {},
   "source": [
    "## Mutual Information"
   ]
  },
  {
   "cell_type": "code",
   "execution_count": null,
   "id": "6d9a5b4d",
   "metadata": {},
   "outputs": [],
   "source": [
    "mi = mutual_info_classif(X_train, y_train)\n",
    "mi_df = pd.DataFrame({\n",
    "    'Feature': X_train.columns,\n",
    "    'Mutual Information': mi\n",
    "})\n",
    "mi_df_sorted = mi_df.sort_values(by='Mutual Information', ascending=False)\n",
    "print(mi_df_sorted)"
   ]
  },
  {
   "cell_type": "markdown",
   "id": "056d3f84",
   "metadata": {},
   "source": [
    "## Fico Score -> Fico Score category "
   ]
  },
  {
   "cell_type": "code",
   "execution_count": null,
   "id": "05d48f97",
   "metadata": {},
   "outputs": [],
   "source": [
    "bins = [0, 580, 669, 739, 799, 850]  \n",
    "labels = ['Poor', 'Fair', 'Good', 'Very Good', 'Exceptional']\n",
    "\n",
    "# bins = [0,  669, 739, 850]  \n",
    "# labels = ['Poor', 'Good', 'Very Good']\n",
    "\n",
    "train_data_copy['fico_category'] = pd.cut(train_data_copy['fico_score'], bins=bins, labels=labels, right=False)"
   ]
  },
  {
   "cell_type": "code",
   "execution_count": null,
   "id": "31c1125a",
   "metadata": {},
   "outputs": [],
   "source": [
    "plt.figure(figsize=(6, 4))\n",
    "pivot_table = train_data_copy.groupby([\"fico_category\", \"charge_off_status\"]).size().unstack()\n",
    "pivot_table_percentage = pivot_table.div(pivot_table.sum(axis=1), axis=0) * 100\n",
    "pivot_table_percentage.plot(kind=\"bar\", stacked=True )\n",
    "plt.title(\"Charge-Off Status by fico_category (Percentage)\")\n",
    "plt.xlabel(\"fico_category\")\n",
    "plt.ylabel(\"Percentage\")\n",
    "plt.legend(title=\"Charge-Off Status\")\n",
    "plt.tick_params(axis='x', rotation=45)\n",
    "plt.show()"
   ]
  },
  {
   "cell_type": "code",
   "execution_count": null,
   "id": "bb94734e",
   "metadata": {},
   "outputs": [],
   "source": [
    "# bins = [0, 580, 669, 739, 799, 850]  \n",
    "# labels = ['Poor', 'Fair', 'Good', 'Very Good', 'Exceptional']\n",
    "\n",
    "# train_data['fico_category'] = pd.cut(train_data['fico_score'], bins=bins, labels=labels, right=False)\n",
    "# test_data['fico_category'] = pd.cut(test_data['fico_score'], bins=bins, labels=labels, right=False)"
   ]
  },
  {
   "cell_type": "markdown",
   "id": "86f72119",
   "metadata": {},
   "source": [
    "## Age -> Age Categories "
   ]
  },
  {
   "cell_type": "code",
   "execution_count": null,
   "id": "7201759f",
   "metadata": {},
   "outputs": [],
   "source": [
    "bins = [0, 580, 669, 739, 799, 850]  \n",
    "labels = ['Poor', 'Fair', 'Good', 'Very Good', 'Exceptional']\n",
    "\n",
    "# bins = [0,  669, 739, 850]  \n",
    "# labels = ['Poor', 'Good', 'Very Good']\n",
    "\n",
    "train_data_copy['fico_category'] = pd.cut(train_data_copy['fico_score'], bins=bins, labels=labels, right=False)"
   ]
  },
  {
   "cell_type": "markdown",
   "id": "91f28379",
   "metadata": {},
   "source": [
    "## Delinquency_status -> Delinquency_status Groups"
   ]
  },
  {
   "cell_type": "code",
   "execution_count": null,
   "id": "c0efb127",
   "metadata": {},
   "outputs": [],
   "source": [
    "bins = [0, 72.5, float('inf')]  \n",
    "labels = ['Normal', 'High']\n",
    "\n",
    "train_data_copy['delinquency_group'] = pd.cut(train_data_copy['delinquency_status'], bins=bins, labels=labels, right=False)"
   ]
  },
  {
   "cell_type": "code",
   "execution_count": null,
   "id": "e598dbc3",
   "metadata": {},
   "outputs": [],
   "source": [
    "train_data.info()\n",
    "test_data.info()"
   ]
  },
  {
   "cell_type": "code",
   "execution_count": null,
   "id": "31926902",
   "metadata": {},
   "outputs": [],
   "source": [
    "train_data.to_csv(\"../data/model_train_data.csv\", index=False)\n",
    "test_data.to_csv(\"../data/model_test_data.csv\", index=False)"
   ]
  },
  {
   "cell_type": "code",
   "execution_count": null,
   "id": "9375d5d1",
   "metadata": {},
   "outputs": [],
   "source": []
  }
 ],
 "metadata": {
  "kernelspec": {
   "display_name": "Python 3 (ipykernel)",
   "language": "python",
   "name": "python3"
  },
  "language_info": {
   "codemirror_mode": {
    "name": "ipython",
    "version": 3
   },
   "file_extension": ".py",
   "mimetype": "text/x-python",
   "name": "python",
   "nbconvert_exporter": "python",
   "pygments_lexer": "ipython3",
   "version": "3.11.7"
  }
 },
 "nbformat": 4,
 "nbformat_minor": 5
}
